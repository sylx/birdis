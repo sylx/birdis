{
 "cells": [
  {
   "cell_type": "code",
   "execution_count": 1,
   "id": "5de8d50a",
   "metadata": {
    "execution": {
     "iopub.execute_input": "2024-07-10T02:40:47.847426Z",
     "iopub.status.busy": "2024-07-10T02:40:47.846929Z",
     "iopub.status.idle": "2024-07-10T02:40:47.851944Z",
     "shell.execute_reply": "2024-07-10T02:40:47.850939Z"
    },
    "papermill": {
     "duration": 0.019613,
     "end_time": "2024-07-10T02:40:47.854950",
     "exception": false,
     "start_time": "2024-07-10T02:40:47.835337",
     "status": "completed"
    },
    "tags": [
     "parameters"
    ]
   },
   "outputs": [],
   "source": [
    "x: float=1.0 # x is a float\n",
    "y: float=2.0 # y is a float"
   ]
  },
  {
   "cell_type": "code",
   "execution_count": 2,
   "id": "19f4db83",
   "metadata": {
    "execution": {
     "iopub.execute_input": "2024-07-10T02:40:47.877952Z",
     "iopub.status.busy": "2024-07-10T02:40:47.876951Z",
     "iopub.status.idle": "2024-07-10T02:40:47.883952Z",
     "shell.execute_reply": "2024-07-10T02:40:47.882454Z"
    },
    "papermill": {
     "duration": 0.021494,
     "end_time": "2024-07-10T02:40:47.886950",
     "exception": false,
     "start_time": "2024-07-10T02:40:47.865456",
     "status": "completed"
    },
    "tags": [
     "injected-parameters"
    ]
   },
   "outputs": [],
   "source": [
    "# Parameters\n",
    "x = 0.6\n",
    "y = 0.1\n"
   ]
  },
  {
   "cell_type": "code",
   "execution_count": 3,
   "id": "a99f1998",
   "metadata": {
    "execution": {
     "iopub.execute_input": "2024-07-10T02:40:47.910950Z",
     "iopub.status.busy": "2024-07-10T02:40:47.909950Z",
     "iopub.status.idle": "2024-07-10T02:40:47.915951Z",
     "shell.execute_reply": "2024-07-10T02:40:47.914952Z"
    },
    "papermill": {
     "duration": 0.021497,
     "end_time": "2024-07-10T02:40:47.919450",
     "exception": false,
     "start_time": "2024-07-10T02:40:47.897953",
     "status": "completed"
    },
    "tags": []
   },
   "outputs": [],
   "source": [
    "# このセルの変数を保持する\n",
    "# metadata: {\"preserve\": [\"message\"]}\n",
    "message = \"Hello, world!\""
   ]
  },
  {
   "cell_type": "code",
   "execution_count": 4,
   "id": "7af3de97",
   "metadata": {
    "execution": {
     "iopub.execute_input": "2024-07-10T02:40:47.945956Z",
     "iopub.status.busy": "2024-07-10T02:40:47.945457Z",
     "iopub.status.idle": "2024-07-10T02:40:47.962472Z",
     "shell.execute_reply": "2024-07-10T02:40:47.961472Z"
    },
    "papermill": {
     "duration": 0.032515,
     "end_time": "2024-07-10T02:40:47.965470",
     "exception": false,
     "start_time": "2024-07-10T02:40:47.932955",
     "status": "completed"
    },
    "tags": []
   },
   "outputs": [],
   "source": [
    "# windowsの通知を出す実験\n",
    "import zroya\n",
    "import time\n",
    "\n",
    "\n",
    "def onClickHandler(notification_id):\n",
    "    print(\"Clicked!\")\n",
    "\n",
    "zroya.init(\"Python\", \"a\", \"b\", \"c\", \"d\")\n",
    "t = zroya.Template(zroya.TemplateType.Text1)\n",
    "t.setFirstLine(message)\n",
    "zroya.show(t, on_click=onClickHandler)\n",
    "message = \"Hello, world! 2\""
   ]
  }
 ],
 "metadata": {
  "kernelspec": {
   "display_name": ".venv",
   "language": "python",
   "name": "python3"
  },
  "language_info": {
   "codemirror_mode": {
    "name": "ipython",
    "version": 3
   },
   "file_extension": ".py",
   "mimetype": "text/x-python",
   "name": "python",
   "nbconvert_exporter": "python",
   "pygments_lexer": "ipython3",
   "version": "3.10.1"
  },
  "papermill": {
   "default_parameters": {},
   "duration": 0.159486,
   "end_time": "2024-07-10T02:40:47.984974",
   "environment_variables": {},
   "exception": null,
   "input_path": "./PoC/windows_toasts.ipynb",
   "output_path": "./PoC/windows_toasts_output.ipynb",
   "parameters": {
    "x": 0.6,
    "y": 0.1
   },
   "start_time": "2024-07-10T02:40:47.825488",
   "version": "2.6.0"
  }
 },
 "nbformat": 4,
 "nbformat_minor": 5
}
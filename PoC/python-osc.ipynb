{
 "cells": [
  {
   "cell_type": "code",
   "execution_count": 1,
   "metadata": {},
   "outputs": [
    {
     "name": "stdout",
     "output_type": "stream",
     "text": [
      "Collecting python-osc\n",
      "  Downloading python_osc-1.8.3-py3-none-any.whl (33 kB)\n",
      "Installing collected packages: python-osc\n",
      "Successfully installed python-osc-1.8.3\n"
     ]
    },
    {
     "name": "stderr",
     "output_type": "stream",
     "text": [
      "WARNING: You are using pip version 21.2.4; however, version 24.1.2 is available.\n",
      "You should consider upgrading via the 'C:\\Users\\sylx\\project\\birdis\\.venv\\Scripts\\python.exe -m pip install --upgrade pip' command.\n"
     ]
    }
   ],
   "source": [
    "!pip install python-osc"
   ]
  },
  {
   "cell_type": "code",
   "execution_count": 1,
   "metadata": {},
   "outputs": [
    {
     "name": "stdout",
     "output_type": "stream",
     "text": [
      "/live/startup ()\n",
      "/live/application/get/average_process_usage ()\n",
      "/live/song/get/tempo (111.0,)\n",
      "/live/test ('ok',)\n",
      "/live/application/get/version (12, 0)\n",
      "/live/song/get/tempo (100.0,)\n",
      "/live/test ('ok',)\n",
      "/live/application/get/version (12, 0)\n",
      "/live/song/get/tempo (100.0,)\n",
      "Received error from Live: Unknown OSC address: /live/song/get/length\n",
      "/live/error ('Unknown OSC address: /live/song/get/length',)\n",
      "/live/test ('ok',)\n",
      "/live/application/get/version (12, 0)\n",
      "/live/song/get/tempo (100.0,)\n",
      "/live/song/get/song_length (232.0,)\n",
      "/live/test ('ok',)\n",
      "/live/application/get/version (12, 0)\n",
      "/live/song/get/tempo (100.0,)\n",
      "/live/song/get/song_length (232.0,)\n",
      "/live/track/get/arm (0, False)\n",
      "/live/test ('ok',)\n",
      "/live/application/get/version (12, 0)\n",
      "/live/song/get/tempo (100.0,)\n",
      "/live/song/get/song_length (232.0,)\n",
      "/live/track/get/arm (0, True)\n",
      "/live/test ('ok',)\n",
      "/live/application/get/version (12, 0)\n",
      "/live/song/get/tempo (100.0,)\n",
      "/live/song/get/song_length (232.0,)\n",
      "/live/track/get/arm (2, False)\n",
      "/live/track/get/clips/name (2, '505 Core Kit Intro Pattern 111 bpm', None, None, None, None, None, None, None)\n",
      "/live/track/get/clips/name (2, '505 Core Kit Intro Pattern 111 bpm', None, None, None, None, None, None, None)\n",
      "/live/track/get/clips/name (2, '505 Core Kit Intro Pattern 111 bpm', None, None, None, None, None, None, None)\n",
      "Received error from Live: Error handling OSC message: list index out of range\n",
      "/live/error ('Error handling OSC message: list index out of range',)\n",
      "/live/track/get/clips/name (2, '505 Core Kit Intro Pattern 111 bpm', None, None, None, None, None, None, None)\n",
      "Received error from Live: Error handling OSC message: list index out of range\n",
      "/live/error ('Error handling OSC message: list index out of range',)\n",
      "/live/track/get/clips/name (2, '505 Core Kit Intro Pattern 111 bpm', None, None, None, None, None, None, None)\n",
      "Received error from Live: Unknown OSC address: /live/track/clips/length\n",
      "/live/error ('Unknown OSC address: /live/track/clips/length',)\n",
      "/live/track/get/clips/name (2, '505 Core Kit Intro Pattern 111 bpm', None, None, None, None, None, None, None)\n",
      "Received error from Live: Unknown OSC address: /live/track/clips/length\n",
      "/live/error ('Unknown OSC address: /live/track/clips/length',)\n",
      "/live/track/get/clips/name (2, '505 Core Kit Intro Pattern 111 bpm', None, None, None, None, None, None, None)\n",
      "/live/track/get/clips/length (2, 16.0, None, None, None, None, None, None, None)\n",
      "/live/track/get/clips/name (2, 'BD Compressed 01', None, None, None, None, None, None, None)\n",
      "/live/track/get/clips/length (2, 8.0, None, None, None, None, None, None, None)\n",
      "Received error from Live: Error handling OSC message: list index out of range\n",
      "/live/error ('Error handling OSC message: list index out of range',)\n",
      "/live/clip/get/name (2, 0, 'BD Compressed 01')\n",
      "/live/clip/get/name (2, 0, 'BD Compressed 01')\n",
      "/live/clip/get/gain (2, 0, 0.4000000059604645)\n",
      "/live/clip/get/name (2, 0, 'BD Compressed 01')\n",
      "/live/clip/get/gain (2, 0, 0.4000000059604645)\n",
      "/live/clip/get/name (2, 0, 'BD Compressed 01')\n",
      "/live/clip/get/gain (2, 0, 0.44999998807907104)\n",
      "/live/clip/get/name (2, 0, 'BD Compressed 01')\n",
      "/live/clip/get/gain (2, 0, 0.4000000059604645)\n",
      "/live/clip/get/start_marker (2, 0, 0.0)\n",
      "/live/clip/get/name (2, 0, 'BD Compressed 01')\n",
      "/live/clip/get/gain (2, 0, 0.4000000059604645)\n",
      "/live/clip/get/start_marker (2, 0, 0.0)\n",
      "/live/clip/get/file_path (2, 0, 'C:\\\\music_resource\\\\Samples\\\\Drum loops Misc\\\\Misc Loops\\\\BD Compressed 01.wav')\n"
     ]
    }
   ],
   "source": [
    "import os\n",
    "import sys\n",
    "\n",
    "# プロジェクトのルートディレクトリをカレントディレクトリに設定\n",
    "project_root = os.path.abspath(os.path.join(os.getcwd(), '..'))\n",
    "sys.path.append(project_root)\n",
    "\n",
    "from libs import AbletonOSCClient\n",
    "client = AbletonOSCClient(\"127.0.0.1\", 11000)\n",
    "client.verbose = True"
   ]
  },
  {
   "cell_type": "code",
   "execution_count": 2,
   "metadata": {},
   "outputs": [],
   "source": [
    "def print_error(address, args):\n",
    "    print(\"Received error from Live: %s\" % args)\n",
    "\n",
    "client.set_handler(\"/live/error\", print_error)"
   ]
  },
  {
   "cell_type": "code",
   "execution_count": 3,
   "metadata": {},
   "outputs": [],
   "source": [
    "client.send_message(\"/live/api/reload\")"
   ]
  },
  {
   "cell_type": "code",
   "execution_count": 13,
   "metadata": {},
   "outputs": [
    {
     "data": {
      "text/plain": [
       "{'test': ('ok',),\n",
       " 'version': (12, 0),\n",
       " 'tempo': (100.0,),\n",
       " 'song_length': (232.0,),\n",
       " 'armed': (2, False)}"
      ]
     },
     "execution_count": 13,
     "metadata": {},
     "output_type": "execute_result"
    }
   ],
   "source": [
    "{\n",
    "    \"test\": client.query(\"/live/test\"),\n",
    "    \"version\": client.query(\"/live/application/get/version\"),\n",
    "    \"tempo\": client.query(\"/live/song/get/tempo\"),\n",
    "    \"song_length\": client.query(\"/live/song/get/song_length\"),\n",
    "    \"armed\": client.query(\"/live/track/get/arm\",2),\n",
    "}\n"
   ]
  },
  {
   "cell_type": "code",
   "execution_count": 21,
   "metadata": {},
   "outputs": [
    {
     "data": {
      "text/plain": [
       "{'name': (2, 'BD Compressed 01', None, None, None, None, None, None, None),\n",
       " 'length': (2, 8.0, None, None, None, None, None, None, None)}"
      ]
     },
     "execution_count": 21,
     "metadata": {},
     "output_type": "execute_result"
    }
   ],
   "source": [
    "{\n",
    "    \"name\": client.query(\"/live/track/get/clips/name\", 2),\n",
    "    \"length\": client.query(\"/live/track/get/clips/length\", 2)\n",
    "}"
   ]
  },
  {
   "cell_type": "code",
   "execution_count": 28,
   "metadata": {},
   "outputs": [
    {
     "data": {
      "text/plain": [
       "{'name': (2, 0, 'BD Compressed 01'),\n",
       " 'gain': (2, 0, 0.4000000059604645),\n",
       " 'start_marker': (2, 0, 0.0),\n",
       " 'file_path': (2,\n",
       "  0,\n",
       "  'C:\\\\music_resource\\\\Samples\\\\Drum loops Misc\\\\Misc Loops\\\\BD Compressed 01.wav')}"
      ]
     },
     "execution_count": 28,
     "metadata": {},
     "output_type": "execute_result"
    }
   ],
   "source": [
    "{\n",
    "    \"name\": client.query(\"/live/clip/get/name\", (2,0)),\n",
    "    \"gain\": client.query(\"/live/clip/get/gain\", (2,0)),\n",
    "    \"start_marker\": client.query(\"/live/clip/get/start_marker\", (2,0)),\n",
    "    \"file_path\": client.query(\"/live/clip/get/file_path\", (2,0)),\n",
    "}"
   ]
  },
  {
   "cell_type": "code",
   "execution_count": null,
   "metadata": {},
   "outputs": [],
   "source": [
    "client.send_message(\"/live/clip/set/file_path\", (2,0, \"/Users/ryoya/Downloads/01.wav\"))"
   ]
  }
 ],
 "metadata": {
  "kernelspec": {
   "display_name": ".venv",
   "language": "python",
   "name": "python3"
  },
  "language_info": {
   "codemirror_mode": {
    "name": "ipython",
    "version": 3
   },
   "file_extension": ".py",
   "mimetype": "text/x-python",
   "name": "python",
   "nbconvert_exporter": "python",
   "pygments_lexer": "ipython3",
   "version": "3.10.1"
  }
 },
 "nbformat": 4,
 "nbformat_minor": 2
}

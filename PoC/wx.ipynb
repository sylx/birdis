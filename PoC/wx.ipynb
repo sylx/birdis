{
 "cells": [
  {
   "cell_type": "code",
   "execution_count": 1,
   "metadata": {},
   "outputs": [
    {
     "name": "stdout",
     "output_type": "stream",
     "text": [
      "Collecting wxPython\n",
      "  Downloading wxPython-4.2.1-cp310-cp310-win_amd64.whl (18.1 MB)\n",
      "Requirement already satisfied: six in c:\\users\\sylx\\project\\birdis\\.venv\\lib\\site-packages (from wxPython) (1.16.0)\n",
      "Collecting pillow\n",
      "  Downloading pillow-10.4.0-cp310-cp310-win_amd64.whl (2.6 MB)\n",
      "Collecting numpy\n",
      "  Downloading numpy-2.0.0-cp310-cp310-win_amd64.whl (16.5 MB)\n",
      "Installing collected packages: pillow, numpy, wxPython\n",
      "Successfully installed numpy-2.0.0 pillow-10.4.0 wxPython-4.2.1\n"
     ]
    },
    {
     "name": "stderr",
     "output_type": "stream",
     "text": [
      "WARNING: You are using pip version 21.2.4; however, version 24.1.2 is available.\n",
      "You should consider upgrading via the 'C:\\Users\\sylx\\project\\birdis\\.venv\\Scripts\\python.exe -m pip install --upgrade pip' command.\n"
     ]
    }
   ],
   "source": [
    "!pip install wxPython"
   ]
  },
  {
   "cell_type": "code",
   "execution_count": 1,
   "metadata": {},
   "outputs": [
    {
     "name": "stdout",
     "output_type": "stream",
     "text": [
      "File was copied.\n"
     ]
    },
    {
     "ename": "RuntimeError",
     "evalue": "wrapped C/C++ object of type MainFrame has been deleted",
     "output_type": "error",
     "traceback": [
      "\u001b[1;31m---------------------------------------------------------------------------\u001b[0m",
      "\u001b[1;31mRuntimeError\u001b[0m                              Traceback (most recent call last)",
      "Cell \u001b[1;32mIn[1], line 58\u001b[0m\n\u001b[0;32m     56\u001b[0m frame\u001b[38;5;241m.\u001b[39mShow()\n\u001b[0;32m     57\u001b[0m app\u001b[38;5;241m.\u001b[39mMainLoop()\n\u001b[1;32m---> 58\u001b[0m \u001b[43mframe\u001b[49m\u001b[38;5;241;43m.\u001b[39;49m\u001b[43mDestroy\u001b[49m\u001b[43m(\u001b[49m\u001b[43m)\u001b[49m\n\u001b[0;32m     59\u001b[0m app\u001b[38;5;241m.\u001b[39mDestroy()\n",
      "\u001b[1;31mRuntimeError\u001b[0m: wrapped C/C++ object of type MainFrame has been deleted"
     ]
    }
   ],
   "source": [
    "import wx\n",
    "import os\n",
    "import tempfile\n",
    "\n",
    "class DraggableLabel(wx.StaticText):\n",
    "    def __init__(self, *args, **kwargs):\n",
    "        super(DraggableLabel, self).__init__(*args, **kwargs)\n",
    "        self.Bind(wx.EVT_LEFT_DOWN, self.OnMouseDown)\n",
    "        self.Bind(wx.EVT_MOTION, self.OnMouseMove)\n",
    "        self.dragStartPos = None\n",
    "        self.SetCursor(wx.Cursor(wx.CURSOR_HAND))\n",
    "\n",
    "    def OnMouseDown(self, event):\n",
    "        self.dragStartPos = event.GetPosition()\n",
    "        event.Skip()\n",
    "\n",
    "    def OnMouseMove(self, event):\n",
    "        if event.Dragging() and event.LeftIsDown() and self.dragStartPos:\n",
    "            dragEndPos = event.GetPosition()\n",
    "            distance = (dragEndPos - self.dragStartPos).Get()\n",
    "\n",
    "            if abs(distance[0]) > 5 or abs(distance[1]) > 5:\n",
    "                temp_file = tempfile.NamedTemporaryFile(delete=False, suffix='.txt')\n",
    "                temp_file.write(b\"This is a test file.\")\n",
    "                temp_file.close()\n",
    "\n",
    "                data = wx.FileDataObject()\n",
    "                data.AddFile(temp_file.name)\n",
    "\n",
    "                dropSource = wx.DropSource(self)\n",
    "                dropSource.SetData(data)\n",
    "                result = dropSource.DoDragDrop(wx.Drag_AllowMove)\n",
    "\n",
    "                if result == wx.DragMove:\n",
    "                    print(\"File was moved.\")\n",
    "                elif result == wx.DragCopy:\n",
    "                    print(\"File was copied.\")\n",
    "                else:\n",
    "                    print(\"Drag & Drop operation was cancelled.\")\n",
    "\n",
    "                os.unlink(temp_file.name)\n",
    "                self.dragStartPos = None\n",
    "        event.Skip()\n",
    "\n",
    "class MainFrame(wx.Frame):\n",
    "    def __init__(self):\n",
    "        super(MainFrame, self).__init__(parent=None, title='Draggable Label Demo')\n",
    "        panel = wx.Panel(self)\n",
    "\n",
    "        self.label = DraggableLabel(panel, label=\"Drag me!\")\n",
    "        self.label.SetPosition((50, 50))\n",
    "\n",
    "if __name__ == '__main__':\n",
    "    app = wx.App()\n",
    "    frame = MainFrame()\n",
    "    frame.Show()\n",
    "    app.MainLoop()\n",
    "    frame=None\n",
    "    app=None\n"
   ]
  }
 ],
 "metadata": {
  "kernelspec": {
   "display_name": ".venv",
   "language": "python",
   "name": "python3"
  },
  "language_info": {
   "codemirror_mode": {
    "name": "ipython",
    "version": 3
   },
   "file_extension": ".py",
   "mimetype": "text/x-python",
   "name": "python",
   "nbconvert_exporter": "python",
   "pygments_lexer": "ipython3",
   "version": "3.10.1"
  }
 },
 "nbformat": 4,
 "nbformat_minor": 2
}

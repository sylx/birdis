{
 "cells": [
  {
   "cell_type": "code",
   "execution_count": 1,
   "metadata": {},
   "outputs": [
    {
     "name": "stdout",
     "output_type": "stream",
     "text": [
      "Collecting papermill\n",
      "  Downloading papermill-2.6.0-py3-none-any.whl (38 kB)\n",
      "Collecting click\n",
      "  Using cached click-8.1.7-py3-none-any.whl (97 kB)\n",
      "Collecting nbformat>=5.2.0\n",
      "  Downloading nbformat-5.10.4-py3-none-any.whl (78 kB)\n",
      "Collecting pyyaml\n",
      "  Using cached PyYAML-6.0.1-cp310-cp310-win_amd64.whl (145 kB)\n",
      "Collecting tqdm>=4.32.2\n",
      "  Downloading tqdm-4.66.4-py3-none-any.whl (78 kB)\n",
      "Collecting requests\n",
      "  Downloading requests-2.32.3-py3-none-any.whl (64 kB)\n",
      "Collecting entrypoints\n",
      "  Using cached entrypoints-0.4-py3-none-any.whl (5.3 kB)\n",
      "Collecting tenacity>=5.0.2\n",
      "  Downloading tenacity-8.5.0-py3-none-any.whl (28 kB)\n",
      "Collecting nbclient>=0.2.0\n",
      "  Downloading nbclient-0.10.0-py3-none-any.whl (25 kB)\n",
      "Collecting ansicolors\n",
      "  Downloading ansicolors-1.1.8-py2.py3-none-any.whl (13 kB)\n",
      "Requirement already satisfied: jupyter-core!=5.0.*,>=4.12 in c:\\users\\sylx\\project\\birdis\\.venv\\lib\\site-packages (from nbclient>=0.2.0->papermill) (5.7.2)\n",
      "Requirement already satisfied: jupyter-client>=6.1.12 in c:\\users\\sylx\\project\\birdis\\.venv\\lib\\site-packages (from nbclient>=0.2.0->papermill) (8.6.2)\n",
      "Requirement already satisfied: traitlets>=5.4 in c:\\users\\sylx\\project\\birdis\\.venv\\lib\\site-packages (from nbclient>=0.2.0->papermill) (5.14.3)\n",
      "Requirement already satisfied: python-dateutil>=2.8.2 in c:\\users\\sylx\\project\\birdis\\.venv\\lib\\site-packages (from jupyter-client>=6.1.12->nbclient>=0.2.0->papermill) (2.9.0.post0)\n",
      "Requirement already satisfied: pyzmq>=23.0 in c:\\users\\sylx\\project\\birdis\\.venv\\lib\\site-packages (from jupyter-client>=6.1.12->nbclient>=0.2.0->papermill) (26.0.3)\n",
      "Requirement already satisfied: tornado>=6.2 in c:\\users\\sylx\\project\\birdis\\.venv\\lib\\site-packages (from jupyter-client>=6.1.12->nbclient>=0.2.0->papermill) (6.4.1)\n",
      "Requirement already satisfied: pywin32>=300 in c:\\users\\sylx\\project\\birdis\\.venv\\lib\\site-packages (from jupyter-core!=5.0.*,>=4.12->nbclient>=0.2.0->papermill) (306)\n",
      "Requirement already satisfied: platformdirs>=2.5 in c:\\users\\sylx\\project\\birdis\\.venv\\lib\\site-packages (from jupyter-core!=5.0.*,>=4.12->nbclient>=0.2.0->papermill) (4.2.2)\n",
      "Collecting jsonschema>=2.6\n",
      "  Downloading jsonschema-4.22.0-py3-none-any.whl (88 kB)\n",
      "Collecting fastjsonschema>=2.15\n",
      "  Downloading fastjsonschema-2.20.0-py3-none-any.whl (23 kB)\n",
      "Collecting rpds-py>=0.7.1\n",
      "  Downloading rpds_py-0.18.1-cp310-none-win_amd64.whl (209 kB)\n",
      "Collecting referencing>=0.28.4\n",
      "  Downloading referencing-0.35.1-py3-none-any.whl (26 kB)\n",
      "Collecting attrs>=22.2.0\n",
      "  Downloading attrs-23.2.0-py3-none-any.whl (60 kB)\n",
      "Collecting jsonschema-specifications>=2023.03.6\n",
      "  Downloading jsonschema_specifications-2023.12.1-py3-none-any.whl (18 kB)\n",
      "Requirement already satisfied: six>=1.5 in c:\\users\\sylx\\project\\birdis\\.venv\\lib\\site-packages (from python-dateutil>=2.8.2->jupyter-client>=6.1.12->nbclient>=0.2.0->papermill) (1.16.0)\n",
      "Requirement already satisfied: colorama in c:\\users\\sylx\\project\\birdis\\.venv\\lib\\site-packages (from tqdm>=4.32.2->papermill) (0.4.6)\n",
      "Collecting idna<4,>=2.5\n",
      "  Downloading idna-3.7-py3-none-any.whl (66 kB)\n",
      "Collecting urllib3<3,>=1.21.1\n",
      "  Downloading urllib3-2.2.2-py3-none-any.whl (121 kB)\n",
      "Collecting charset-normalizer<4,>=2\n",
      "  Downloading charset_normalizer-3.3.2-cp310-cp310-win_amd64.whl (100 kB)\n",
      "Collecting certifi>=2017.4.17\n",
      "  Downloading certifi-2024.7.4-py3-none-any.whl (162 kB)\n",
      "Installing collected packages: rpds-py, attrs, referencing, jsonschema-specifications, jsonschema, fastjsonschema, urllib3, nbformat, idna, charset-normalizer, certifi, tqdm, tenacity, requests, pyyaml, nbclient, entrypoints, click, ansicolors, papermill\n",
      "Successfully installed ansicolors-1.1.8 attrs-23.2.0 certifi-2024.7.4 charset-normalizer-3.3.2 click-8.1.7 entrypoints-0.4 fastjsonschema-2.20.0 idna-3.7 jsonschema-4.22.0 jsonschema-specifications-2023.12.1 nbclient-0.10.0 nbformat-5.10.4 papermill-2.6.0 pyyaml-6.0.1 referencing-0.35.1 requests-2.32.3 rpds-py-0.18.1 tenacity-8.5.0 tqdm-4.66.4 urllib3-2.2.2\n"
     ]
    },
    {
     "name": "stderr",
     "output_type": "stream",
     "text": [
      "WARNING: You are using pip version 21.2.4; however, version 24.1.1 is available.\n",
      "You should consider upgrading via the 'C:\\Users\\sylx\\project\\birdis\\.venv\\Scripts\\python.exe -m pip install --upgrade pip' command.\n"
     ]
    }
   ],
   "source": [
    "!pip install papermill"
   ]
  },
  {
   "cell_type": "code",
   "execution_count": 6,
   "metadata": {},
   "outputs": [
    {
     "data": {
      "text/plain": [
       "{'x': {'name': 'x',\n",
       "  'inferred_type_name': 'float',\n",
       "  'default': '1.0',\n",
       "  'help': 'x is a float'},\n",
       " 'y': {'name': 'y',\n",
       "  'inferred_type_name': 'float',\n",
       "  'default': '2.0',\n",
       "  'help': 'y is a float'}}"
      ]
     },
     "execution_count": 6,
     "metadata": {},
     "output_type": "execute_result"
    }
   ],
   "source": [
    "import papermill as pm\n",
    "\n",
    "pm.inspect_notebook('./windows_toasts.ipynb')\n"
   ]
  },
  {
   "cell_type": "code",
   "execution_count": 7,
   "metadata": {},
   "outputs": [
    {
     "name": "stderr",
     "output_type": "stream",
     "text": [
      "c:\\Users\\sylx\\project\\birdis\\.venv\\lib\\site-packages\\tqdm\\auto.py:21: TqdmWarning: IProgress not found. Please update jupyter and ipywidgets. See https://ipywidgets.readthedocs.io/en/stable/user_install.html\n",
      "  from .autonotebook import tqdm as notebook_tqdm\n",
      "Executing: 100%|██████████| 3/3 [00:11<00:00,  3.87s/cell]\n"
     ]
    },
    {
     "data": {
      "text/plain": [
       "{'cells': [{'cell_type': 'code',\n",
       "   'execution_count': 1,\n",
       "   'metadata': {'tags': ['parameters'],\n",
       "    'papermill': {'exception': False,\n",
       "     'start_time': '2024-07-08T12:44:03.801638',\n",
       "     'end_time': '2024-07-08T12:44:03.811652',\n",
       "     'duration': 0.010014,\n",
       "     'status': 'completed'},\n",
       "    'execution': {'iopub.status.busy': '2024-07-08T12:44:03.804155Z',\n",
       "     'iopub.execute_input': '2024-07-08T12:44:03.804155Z',\n",
       "     'shell.execute_reply': '2024-07-08T12:44:03.810154Z',\n",
       "     'iopub.status.idle': '2024-07-08T12:44:03.810653Z'}},\n",
       "   'outputs': [],\n",
       "   'source': 'x: float=1.0 # x is a float\\ny: float=2.0 # y is a float',\n",
       "   'id': '6d3f3f2e'},\n",
       "  {'id': '0ddc7e96',\n",
       "   'cell_type': 'code',\n",
       "   'metadata': {'tags': ['injected-parameters'],\n",
       "    'papermill': {'exception': False,\n",
       "     'start_time': '2024-07-08T12:44:03.813664',\n",
       "     'end_time': '2024-07-08T12:44:03.819668',\n",
       "     'duration': 0.006004,\n",
       "     'status': 'completed'},\n",
       "    'execution': {'iopub.status.busy': '2024-07-08T12:44:03.815668Z',\n",
       "     'iopub.execute_input': '2024-07-08T12:44:03.816167Z',\n",
       "     'iopub.status.idle': '2024-07-08T12:44:03.818665Z',\n",
       "     'shell.execute_reply': '2024-07-08T12:44:03.818165Z'}},\n",
       "   'execution_count': 2,\n",
       "   'source': '# Parameters\\nx = 0.6\\ny = 0.1\\n',\n",
       "   'outputs': []},\n",
       "  {'cell_type': 'code',\n",
       "   'execution_count': 3,\n",
       "   'metadata': {'tags': [],\n",
       "    'papermill': {'exception': False,\n",
       "     'start_time': '2024-07-08T12:44:03.820666',\n",
       "     'end_time': '2024-07-08T12:44:13.874875',\n",
       "     'duration': 10.054209,\n",
       "     'status': 'completed'},\n",
       "    'execution': {'iopub.status.busy': '2024-07-08T12:44:03.822729Z',\n",
       "     'iopub.execute_input': '2024-07-08T12:44:03.822729Z',\n",
       "     'iopub.status.idle': '2024-07-08T12:44:13.873376Z',\n",
       "     'shell.execute_reply': '2024-07-08T12:44:13.872870Z'}},\n",
       "   'outputs': [{'output_type': 'stream',\n",
       "     'name': 'stdout',\n",
       "     'text': 'Clicked!\\n'}],\n",
       "   'source': '# windowsの通知を出す実験\\nimport zroya\\nimport time\\n\\n\\ndef onClickHandler(notification_id):\\n    print(\"Clicked!\")\\n\\nzroya.init(\"Python\", \"a\", \"b\", \"c\", \"d\")\\nt = zroya.Template(zroya.TemplateType.Text1)\\nt.setFirstLine(\"Click on me, please!\")\\nzroya.show(t, on_click=onClickHandler)\\ntime.sleep(10)',\n",
       "   'id': 'e4e31a9d'}],\n",
       " 'metadata': {'kernelspec': {'display_name': '.venv',\n",
       "   'language': 'python',\n",
       "   'name': 'python3'},\n",
       "  'language_info': {'name': 'python',\n",
       "   'version': '3.10.1',\n",
       "   'mimetype': 'text/x-python',\n",
       "   'codemirror_mode': {'name': 'ipython', 'version': 3},\n",
       "   'pygments_lexer': 'ipython3',\n",
       "   'nbconvert_exporter': 'python',\n",
       "   'file_extension': '.py'},\n",
       "  'orig_nbformat_minor': 2,\n",
       "  'papermill': {'default_parameters': {},\n",
       "   'parameters': {'x': 0.6, 'y': 0.1},\n",
       "   'environment_variables': {},\n",
       "   'version': '2.6.0',\n",
       "   'input_path': './windows_toasts.ipynb',\n",
       "   'output_path': './windows_toasts_output.ipynb',\n",
       "   'start_time': '2024-07-08T12:44:02.483440',\n",
       "   'end_time': '2024-07-08T12:44:14.093488',\n",
       "   'duration': 11.610048,\n",
       "   'exception': None}},\n",
       " 'nbformat': 4,\n",
       " 'nbformat_minor': 5}"
      ]
     },
     "execution_count": 7,
     "metadata": {},
     "output_type": "execute_result"
    }
   ],
   "source": [
    "pm.execute_notebook(\n",
    "   './windows_toasts.ipynb',\n",
    "   './windows_toasts_output.ipynb',\n",
    "   parameters=dict(x=0.6, y=0.1)\n",
    ")"
   ]
  },
  {
   "cell_type": "markdown",
   "metadata": {},
   "source": [
    "# カスタムエンジンの実装\n",
    "まず、Papermillのカスタムエンジンを作成します。このエンジンは、特定の変数を保持し、他のリソースを解放するように設計します。"
   ]
  },
  {
   "cell_type": "code",
   "execution_count": 12,
   "metadata": {},
   "outputs": [],
   "source": [
    "import papermill as pm\n",
    "from papermill.engines import NBClientEngine\n",
    "from nbformat import NotebookNode\n",
    "\n",
    "class CustomEngine(NBClientEngine):\n",
    "    @classmethod\n",
    "    def execute_managed_notebook(cls, nb_man, kernel_name, **kwargs):\n",
    "        # 実行前に特定の変数を保持するためのセットアップ\n",
    "        cls.preserved_variables = {}\n",
    "\n",
    "        # Notebookの実行\n",
    "        super().execute_managed_notebook(nb_man, kernel_name, **kwargs)\n",
    "\n",
    "        # 実行後に特定の変数を保持し、他のリソースを解放\n",
    "        for cell in nb_man.nb.cells:\n",
    "            if cell.cell_type == 'code':\n",
    "                # 特定の変数を保持\n",
    "                exec(cell.source, globals())\n",
    "                if 'preserve' in cell.metadata:\n",
    "                    for var in cell.metadata['preserve']:\n",
    "                        cls.preserved_variables[var] = globals().get(var)\n",
    "\n",
    "        # 他のリソースを解放\n",
    "        for var in list(globals().keys()):\n",
    "            if var not in cls.preserved_variables:\n",
    "                del globals()[var]\n",
    "\n",
    "        # 保持した変数をグローバルに再設定\n",
    "        globals().update(cls.preserved_variables)\n",
    "\n",
    "# カスタムエンジンを登録\n",
    "pm.engines.papermill_engines.register('custom_engine', CustomEngine)\n",
    "\n",
    "#カスタムエンジンを使用してNotebookを実行\n",
    "pm.execute_notebook(\n",
    "    './windows_toasts.ipynb',\n",
    "    './windows_toasts_output.ipynb',\n",
    "    parameters=dict(x=0.6, y=0.1),\n",
    "    engine_name='custom_engine'\n",
    ")"
   ]
  }
 ],
 "metadata": {
  "kernelspec": {
   "display_name": ".venv",
   "language": "python",
   "name": "python3"
  },
  "language_info": {
   "codemirror_mode": {
    "name": "ipython",
    "version": 3
   },
   "file_extension": ".py",
   "mimetype": "text/x-python",
   "name": "python",
   "nbconvert_exporter": "python",
   "pygments_lexer": "ipython3",
   "version": "3.10.1"
  }
 },
 "nbformat": 4,
 "nbformat_minor": 2
}

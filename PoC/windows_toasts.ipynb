{
 "cells": [
  {
   "cell_type": "code",
   "execution_count": null,
   "metadata": {
    "tags": [
     "parameters"
    ]
   },
   "outputs": [],
   "source": [
    "x: float=1.0 # x is a float\n",
    "y: float=2.0 # y is a float"
   ]
  },
  {
   "cell_type": "code",
   "execution_count": 8,
   "metadata": {},
   "outputs": [],
   "source": [
    "# このセルの変数を保持する\n",
    "# metadata: {\"preserve\": [\"message\"]}\n",
    "message = \"Hello, world!\""
   ]
  },
  {
   "cell_type": "code",
   "execution_count": 10,
   "metadata": {},
   "outputs": [
    {
     "name": "stdout",
     "output_type": "stream",
     "text": [
      "Clicked!\n"
     ]
    }
   ],
   "source": [
    "# windowsの通知を出す実験\n",
    "import zroya\n",
    "import time\n",
    "\n",
    "\n",
    "def onClickHandler(notification_id):\n",
    "    print(\"Clicked!\")\n",
    "\n",
    "zroya.init(\"Python\", \"a\", \"b\", \"c\", \"d\")\n",
    "t = zroya.Template(zroya.TemplateType.Text1)\n",
    "t.setFirstLine(message)\n",
    "zroya.show(t, on_click=onClickHandler)\n",
    "message = \"Hello, world! 2\""
   ]
  }
 ],
 "metadata": {
  "kernelspec": {
   "display_name": ".venv",
   "language": "python",
   "name": "python3"
  },
  "language_info": {
   "codemirror_mode": {
    "name": "ipython",
    "version": 3
   },
   "file_extension": ".py",
   "mimetype": "text/x-python",
   "name": "python",
   "nbconvert_exporter": "python",
   "pygments_lexer": "ipython3",
   "version": "3.10.1"
  }
 },
 "nbformat": 4,
 "nbformat_minor": 2
}
